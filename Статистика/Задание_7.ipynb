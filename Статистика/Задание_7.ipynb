{
 "cells": [
  {
   "cell_type": "markdown",
   "id": "af227b5e-14bc-4922-9f9c-de1e25cd9e38",
   "metadata": {},
   "source": [
    "# Домашнее задание по теме \"Дисперсионный анализ\""
   ]
  },
  {
   "cell_type": "code",
   "execution_count": 98,
   "id": "bc004cde-a8a9-4590-ad23-13fa598739b1",
   "metadata": {
    "execution": {
     "iopub.execute_input": "2022-08-18T16:02:59.566213Z",
     "iopub.status.busy": "2022-08-18T16:02:59.566213Z",
     "iopub.status.idle": "2022-08-18T16:02:59.577184Z",
     "shell.execute_reply": "2022-08-18T16:02:59.577184Z",
     "shell.execute_reply.started": "2022-08-18T16:02:59.566213Z"
    },
    "tags": []
   },
   "outputs": [],
   "source": [
    "import matplotlib.pyplot as plt  # Библиотека для визуализации результатов\n",
    "import numpy as np\n",
    "import pandas as pd  # для работы с таблицами\n",
    "import seaborn as sns  # Более продвинутая библиотека для визуализации\n",
    "from scipy import stats  # При работе со статистикой"
   ]
  },
  {
   "cell_type": "markdown",
   "id": "4007e08c-c6b4-4f6d-9658-ca8815d2bb9a",
   "metadata": {
    "tags": []
   },
   "source": [
    "## Задачи с самостоятельным выбором теста"
   ]
  },
  {
   "cell_type": "markdown",
   "id": "e931c472-7ed1-42b5-af93-3e86dca18159",
   "metadata": {
    "tags": []
   },
   "source": [
    "**Замечание: 1** Предполагается, что для решения заданий  № 1-3 будут использоваться разные тесты."
   ]
  },
  {
   "cell_type": "markdown",
   "id": "5e2e6167-caa7-41f3-9c98-f285e06b8e99",
   "metadata": {
    "tags": []
   },
   "source": [
    "<div class=\"alert alert-info\">\n",
    "    \n",
    "### Задание № 1\n",
    "Вам даны результаты проверки двух препаратов.\n",
    "    \n",
    "Требуется:\n",
    "- Оценить, есть ли различие в эффекте у этих пациентов?\n",
    "- Визуально подтвердить результат\n",
    "    \n",
    "`A` - результаты для группы людей получающих препарат А.\n",
    "\n",
    "`B` - результаты для другой группы людей, получающих препарат B.\n",
    "    \n",
    "</div>"
   ]
  },
  {
   "cell_type": "code",
   "execution_count": 99,
   "id": "95d6b32c-d7d7-4a24-a989-2ea79f69b5d8",
   "metadata": {
    "ExecuteTime": {
     "end_time": "2022-03-01T11:32:15.901529Z",
     "start_time": "2022-03-01T11:32:15.888526Z"
    },
    "execution": {
     "iopub.execute_input": "2022-08-18T16:02:59.579179Z",
     "iopub.status.busy": "2022-08-18T16:02:59.579179Z",
     "iopub.status.idle": "2022-08-18T16:02:59.592144Z",
     "shell.execute_reply": "2022-08-18T16:02:59.592144Z",
     "shell.execute_reply.started": "2022-08-18T16:02:59.579179Z"
    },
    "tags": []
   },
   "outputs": [
    {
     "name": "stdout",
     "output_type": "stream",
     "text": [
      "Гипотеза H0_01='эффект препаратов различен' не может быть отклонена\n",
      "p_value_01=0.085\n"
     ]
    }
   ],
   "source": [
    "np.random.seed(11)\n",
    "A_01 = stats.norm.rvs(scale=30, loc=11, size=100)\n",
    "B_01 = A_01 + stats.norm.rvs(scale=54, loc=11, size=100)\n",
    "a_01 = 0.05\n",
    "H0_01 = \"эффект препаратов различен\"\n",
    "\n",
    "# проверю, отличаются ли два независимых образца с помощью t-критерия Стьюдента\n",
    "t, p_value_01 = stats.ttest_ind(A_01, B_01)\n",
    "t, p_value_01\n",
    "\n",
    "if p_value_01 >= a_01:\n",
    "    print(f\"Гипотеза {H0_01=} не может быть отклонена\")\n",
    "else:\n",
    "    print(f\"Гипотеза {H0_01=} отклонена\")\n",
    "print(f\"{p_value_01=:.3f}\")"
   ]
  },
  {
   "cell_type": "code",
   "execution_count": 100,
   "id": "b7e6c122-d2b2-462e-86df-42abe6cf8636",
   "metadata": {
    "execution": {
     "iopub.execute_input": "2022-08-18T16:02:59.593142Z",
     "iopub.status.busy": "2022-08-18T16:02:59.593142Z",
     "iopub.status.idle": "2022-08-18T16:02:59.831503Z",
     "shell.execute_reply": "2022-08-18T16:02:59.831503Z",
     "shell.execute_reply.started": "2022-08-18T16:02:59.593142Z"
    },
    "tags": []
   },
   "outputs": [
    {
     "data": {
      "text/plain": [
       "<matplotlib.legend.Legend at 0x1733e604760>"
      ]
     },
     "execution_count": 100,
     "metadata": {},
     "output_type": "execute_result"
    },
    {
     "data": {
      "image/png": "[encoded data removed]",
      "text/plain": [
       "<Figure size 432x288 with 1 Axes>"
      ]
     },
     "metadata": {},
     "output_type": "display_data"
    }
   ],
   "source": [
    "plt.hist(A_01, bins=25)\n",
    "plt.hist(B_01, bins=25, alpha=0.75)\n",
    "plt.title(\"Различия в эффекте препаратов\")\n",
    "plt.xlabel(\"Распределение\")\n",
    "plt.ylabel(\"Уровень эффекта препарата\")\n",
    "plt.legend([\"Препарат A\", \"Препарат B\"])"
   ]
  },
  {
   "cell_type": "markdown",
   "id": "f8c5a080-84fd-4ba0-be50-706431ac88d9",
   "metadata": {
    "tags": []
   },
   "source": [
    "<div class=\"alert alert-info\">\n",
    "    \n",
    "### Задание № 2\n",
    "Вам даны результаты проверки двух препаратов. \n",
    "    \n",
    "Требуется: \n",
    "- Оценить, есть ли различие в эффекте у этих пациентов?\n",
    "- Визуально подтвердить результат\n",
    "    \n",
    "`А` - группа людей без препарата.\n",
    "\n",
    "`B` - та же группа людей, но получающая препарат\n",
    "</div>"
   ]
  },
  {
   "cell_type": "code",
   "execution_count": 101,
   "id": "630dff11-9a09-46df-a1e7-12f3beb17798",
   "metadata": {
    "ExecuteTime": {
     "end_time": "2022-03-01T11:32:15.917578Z",
     "start_time": "2022-03-01T11:32:15.904528Z"
    },
    "execution": {
     "iopub.execute_input": "2022-08-18T16:02:59.834496Z",
     "iopub.status.busy": "2022-08-18T16:02:59.834496Z",
     "iopub.status.idle": "2022-08-18T16:02:59.847460Z",
     "shell.execute_reply": "2022-08-18T16:02:59.847460Z",
     "shell.execute_reply.started": "2022-08-18T16:02:59.834496Z"
    },
    "tags": []
   },
   "outputs": [
    {
     "name": "stdout",
     "output_type": "stream",
     "text": [
      "Гипотеза H0_02='эффект препаратов различен' отклонена\n",
      "p_value_02=0.032\n"
     ]
    }
   ],
   "source": [
    "np.random.seed(11)\n",
    "A_02 = stats.norm.rvs(scale=30, loc=11, size=100)\n",
    "B_02 = A_02 + stats.norm.rvs(scale=54, loc=11, size=100)\n",
    "a_02 = 0.05\n",
    "H0_02 = \"эффект препаратов различен\"\n",
    "\n",
    "# проверю, отличаются ли два зависимых образца с помощью парного t-критерия Стьюдента\n",
    "t, p_value_02 = stats.ttest_rel(A_02, B_02)\n",
    "t, p_value_02\n",
    "\n",
    "if p_value_02 >= a_02:\n",
    "    print(f\"Гипотеза {H0_02=} не может быть отклонена\")\n",
    "else:\n",
    "    print(f\"Гипотеза {H0_02=} отклонена\")\n",
    "print(f\"{p_value_02=:.3f}\")"
   ]
  },
  {
   "cell_type": "code",
   "execution_count": 102,
   "id": "267a9f3c-08b2-412c-91ff-fb1a60fc225a",
   "metadata": {
    "execution": {
     "iopub.execute_input": "2022-08-18T16:02:59.848458Z",
     "iopub.status.busy": "2022-08-18T16:02:59.848458Z",
     "iopub.status.idle": "2022-08-18T16:03:00.054906Z",
     "shell.execute_reply": "2022-08-18T16:03:00.054906Z",
     "shell.execute_reply.started": "2022-08-18T16:02:59.848458Z"
    },
    "tags": []
   },
   "outputs": [
    {
     "data": {
      "text/plain": [
       "<matplotlib.legend.Legend at 0x1733e572d00>"
      ]
     },
     "execution_count": 102,
     "metadata": {},
     "output_type": "execute_result"
    },
    {
     "data": {
      "image/png": "[encoded data removed]",
      "text/plain": [
       "<Figure size 432x288 with 1 Axes>"
      ]
     },
     "metadata": {},
     "output_type": "display_data"
    }
   ],
   "source": [
    "plt.hist(A_02, bins=25)\n",
    "plt.hist(B_02, bins=25, alpha=0.75)\n",
    "plt.title(\"Различия в эффекте препаратов\")\n",
    "plt.xlabel(\"Распределение\")\n",
    "plt.ylabel(\"Уровень эффекта препарата\")\n",
    "plt.legend([\"Препарат A\", \"Препарат B\"])"
   ]
  },
  {
   "cell_type": "markdown",
   "id": "6229aa7e-1afc-4be1-ba04-a15a9bddb6b1",
   "metadata": {},
   "source": [
    "<div class=\"alert alert-info\">\n",
    "    \n",
    "### Задание № 3\n",
    "Допустим вы решили устроить дачный эксперимент. Берем и поливаем одни огурцы водой, другие огурцы водой с удобнением, третью группу огурцов будем поливать минералкой. \n",
    "    \n",
    " - Используя дисперсионный анализ, сделайте выводы о распредлениях результатов. Есть ли эффект от удобрения по сравнению с минералкой? \n",
    " - Помимо результата статистического теста, продемонстрируйте отличия визуально с помощью `boxplot` или `hist`\n",
    "    \n",
    "</div>"
   ]
  },
  {
   "cell_type": "code",
   "execution_count": 103,
   "id": "46149377-84e8-4ab2-95f4-a3866a45548f",
   "metadata": {
    "ExecuteTime": {
     "end_time": "2022-03-01T11:32:16.028527Z",
     "start_time": "2022-03-01T11:32:15.924532Z"
    },
    "execution": {
     "iopub.execute_input": "2022-08-18T16:03:00.055904Z",
     "iopub.status.busy": "2022-08-18T16:03:00.055904Z",
     "iopub.status.idle": "2022-08-18T16:03:00.069866Z",
     "shell.execute_reply": "2022-08-18T16:03:00.069866Z",
     "shell.execute_reply.started": "2022-08-18T16:03:00.055904Z"
    },
    "tags": []
   },
   "outputs": [],
   "source": [
    "water = [1, 2, 3, 4, 2, 4, 2, 4, 5, 2, 3, 4, 2, 1, 3, 4, 3, 2, 5, 1, 1]\n",
    "nutri = [1, 2, 4, 6, 5, 6, 7, 5, 4, 5, 6, 7, 4, 3, 5, 5, 6, 5, 4, 3, 5]\n",
    "mineral = [2, 1, 1, 3, 2, 4, 2, 4, 5, 4, 3, 2, 3, 2, 3, 1, 3, 4, 5, 1, 4]"
   ]
  },
  {
   "cell_type": "code",
   "execution_count": 104,
   "id": "2e27153f-4d56-4090-933d-119a3ce97eec",
   "metadata": {
    "execution": {
     "iopub.execute_input": "2022-08-18T16:03:00.070863Z",
     "iopub.status.busy": "2022-08-18T16:03:00.070863Z",
     "iopub.status.idle": "2022-08-18T16:03:00.165610Z",
     "shell.execute_reply": "2022-08-18T16:03:00.165610Z",
     "shell.execute_reply.started": "2022-08-18T16:03:00.070863Z"
    },
    "tags": []
   },
   "outputs": [
    {
     "name": "stdout",
     "output_type": "stream",
     "text": [
      "Нулевая гипотеза: water=nutri=mineral\n",
      "Альтернативная гипотеза: !(water=nutri=mineral)\n",
      "Результат:\n",
      "отклоняем нулевую гипотезу\n",
      "Полученное f-значение 13.073701842546066\n"
     ]
    },
    {
     "data": {
      "image/png": "[encoded data removed]",
      "text/plain": [
       "<Figure size 432x288 with 1 Axes>"
      ]
     },
     "metadata": {},
     "output_type": "display_data"
    }
   ],
   "source": [
    "data = pd.DataFrame({\"water\": water, \"nutri\": nutri, \"mineral\": mineral})\n",
    "data.boxplot()\n",
    "print(\"Нулевая гипотеза:\", \"=\".join(data))\n",
    "print(\"Альтернативная гипотеза:\", f'!({\"=\".join(data)})')\n",
    "# общая средняя\n",
    "grand_mean = data.values.flatten().mean()\n",
    "# Общая сумма квадратов sst = ssb + ssw\n",
    "sst = sum((val - grand_mean) ** 2 for val in data.values.flatten())\n",
    "# отклонение групповых средний от общей средней\n",
    "ssb = sum(\n",
    "    data[group].size * (group_mean - grand_mean) ** 2\n",
    "    for group, group_mean in data.mean().items()\n",
    ")\n",
    "# отклонения значений внутри группы от средней группы\n",
    "ssw = sum(\n",
    "    sum((x - group_mean) ** 2 for x in data[group])\n",
    "    for group, group_mean in data.mean().items()\n",
    ")\n",
    "\n",
    "groups = data.shape[1]\n",
    "# Степени свободы\n",
    "dfb = groups - 1\n",
    "dfw = data.size - groups\n",
    "# межгрупповой средний квадрат\n",
    "mssb = ssb / dfb\n",
    "# внутригрупповой средний квадрат\n",
    "mssw = ssw / dfw\n",
    "\n",
    "f_value = mssb / mssw\n",
    "\n",
    "p = stats.f.sf(f_value, dfb, dfw)\n",
    "print(\"Результат:\")\n",
    "if p < 0.05:\n",
    "    print(\"отклоняем нулевую гипотезу\")\n",
    "else:\n",
    "    print(\"НЕ отклоняем нулевую гипотезу\")\n",
    "print(f\"Полученное f-значение {f_value}\")"
   ]
  },
  {
   "cell_type": "markdown",
   "id": "88004cad-e2a8-49ce-914c-6bfefb2fdaa2",
   "metadata": {
    "tags": []
   },
   "source": [
    "## Покемоны и AB-тестирование \n",
    "(реальный кейс собеседования на позицию Аналитика).\n",
    "\n",
    "\n",
    "### Описание задачи\n",
    "\n",
    "![banner](https://storage.googleapis.com/kaggle-datasets-images/635/1204/126be74882028aac7241553cef0e27a7/dataset-original.jpg)\n",
    "\n",
    "Покемоны - это маленькие существа, которые сражаются друг с другом на соревнованиях. Все покемоны имеют разные характеристики (сила атаки, защиты и т. д.) И относятся к одному или двум так называемым классам (вода, огонь и т. д.).\n",
    "Профессор Оук является изобретателем Pokedex, портативного устройства, которое хранит информацию обо всех существующих покемонах. Как его ведущий специалист по данным, Вы только что получили от него запрос с просьбой осуществить аналитику данных на всех устройствах Pokedex. \n"
   ]
  },
  {
   "cell_type": "markdown",
   "id": "dc8cb8c2-0fe9-4fec-aa15-a955d038e9dd",
   "metadata": {
    "execution": {
     "iopub.execute_input": "2022-08-17T17:52:02.908067Z",
     "iopub.status.busy": "2022-08-17T17:52:02.908067Z",
     "iopub.status.idle": "2022-08-17T17:52:02.921052Z",
     "shell.execute_reply": "2022-08-17T17:52:02.920042Z",
     "shell.execute_reply.started": "2022-08-17T17:52:02.908067Z"
    },
    "tags": []
   },
   "source": [
    "### Описание набора данных\n",
    "Профессор Оук скопировал все содержимое память одного устройства Pokedex, в результате чего получился набор данных, с которым Вы будете работать в этой задаче. В этом файле каждая строка представляет характеристики одного покемона:\n",
    "\n",
    "* `pid`: Numeric - ID покемона\n",
    "* `HP`: Numeric - Очки здоровья\n",
    "* `Attack`: Numeric - Сила обычной атаки\n",
    "* `Defense`: Numeric - Сила обычной защиты\n",
    "* `Sp. Atk`: Numeric - Сила специальной атаки\n",
    "* `Sp. Def`: Numeric - Сила специальной защиты\n",
    "* `Speed`: Numeric - Скорость движений\n",
    "* `Legendary`: Boolean - «True», если покемон редкий\n",
    "* `Class 1`: Categorical - Класс покемона\n",
    "* `Class 2`: Categorical - Класс покемона"
   ]
  },
  {
   "cell_type": "code",
   "execution_count": 105,
   "id": "6d6babfb-e71b-4a13-852a-f86076ade75e",
   "metadata": {
    "ExecuteTime": {
     "end_time": "2022-03-01T11:32:33.039545Z",
     "start_time": "2022-03-01T11:32:33.004532Z"
    },
    "execution": {
     "iopub.execute_input": "2022-08-18T16:03:00.166606Z",
     "iopub.status.busy": "2022-08-18T16:03:00.166606Z",
     "iopub.status.idle": "2022-08-18T16:03:00.197524Z",
     "shell.execute_reply": "2022-08-18T16:03:00.197524Z",
     "shell.execute_reply.started": "2022-08-18T16:03:00.166606Z"
    },
    "tags": []
   },
   "outputs": [
    {
     "name": "stderr",
     "output_type": "stream",
     "text": [
      "C:\\Users\\Dorzhe\\AppData\\Local\\Temp\\ipykernel_19576\\2679506828.py:1: FutureWarning: The error_bad_lines argument has been deprecated and will be removed in a future version. Use on_bad_lines in the future.\n",
      "\n",
      "\n",
      "  pokemon = pd.read_csv('pokemon.csv', error_bad_lines=False)  # Откроем датасет\n"
     ]
    },
    {
     "data": {
      "text/html": [
       "<div>\n",
       "<style scoped>\n",
       "    .dataframe tbody tr th:only-of-type {\n",
       "        vertical-align: middle;\n",
       "    }\n",
       "\n",
       "    .dataframe tbody tr th {\n",
       "        vertical-align: top;\n",
       "    }\n",
       "\n",
       "    .dataframe thead th {\n",
       "        text-align: right;\n",
       "    }\n",
       "</style>\n",
       "<table border=\"1\" class=\"dataframe\">\n",
       "  <thead>\n",
       "    <tr style=\"text-align: right;\">\n",
       "      <th></th>\n",
       "      <th>Pid</th>\n",
       "      <th>Name</th>\n",
       "      <th>Class_1</th>\n",
       "      <th>Class_2</th>\n",
       "      <th>HP</th>\n",
       "      <th>Attack</th>\n",
       "      <th>Defense</th>\n",
       "      <th>Sp_Atk</th>\n",
       "      <th>Sp_Def</th>\n",
       "      <th>Speed</th>\n",
       "      <th>Legendary</th>\n",
       "    </tr>\n",
       "  </thead>\n",
       "  <tbody>\n",
       "    <tr>\n",
       "      <th>0</th>\n",
       "      <td>1</td>\n",
       "      <td>Bulbasaur</td>\n",
       "      <td>Grass</td>\n",
       "      <td>Poison</td>\n",
       "      <td>45</td>\n",
       "      <td>49</td>\n",
       "      <td>49</td>\n",
       "      <td>65</td>\n",
       "      <td>65</td>\n",
       "      <td>45</td>\n",
       "      <td>False</td>\n",
       "    </tr>\n",
       "    <tr>\n",
       "      <th>1</th>\n",
       "      <td>2</td>\n",
       "      <td>Ivysaur</td>\n",
       "      <td>Grass</td>\n",
       "      <td>Poison</td>\n",
       "      <td>60</td>\n",
       "      <td>62</td>\n",
       "      <td>63</td>\n",
       "      <td>80</td>\n",
       "      <td>80</td>\n",
       "      <td>60</td>\n",
       "      <td>False</td>\n",
       "    </tr>\n",
       "    <tr>\n",
       "      <th>2</th>\n",
       "      <td>3</td>\n",
       "      <td>Venusaur</td>\n",
       "      <td>Grass</td>\n",
       "      <td>Poison</td>\n",
       "      <td>80</td>\n",
       "      <td>82</td>\n",
       "      <td>83</td>\n",
       "      <td>100</td>\n",
       "      <td>100</td>\n",
       "      <td>80</td>\n",
       "      <td>False</td>\n",
       "    </tr>\n",
       "    <tr>\n",
       "      <th>3</th>\n",
       "      <td>4</td>\n",
       "      <td>Mega Venusaur</td>\n",
       "      <td>Grass</td>\n",
       "      <td>Poison</td>\n",
       "      <td>80</td>\n",
       "      <td>100</td>\n",
       "      <td>123</td>\n",
       "      <td>122</td>\n",
       "      <td>120</td>\n",
       "      <td>80</td>\n",
       "      <td>False</td>\n",
       "    </tr>\n",
       "    <tr>\n",
       "      <th>4</th>\n",
       "      <td>5</td>\n",
       "      <td>Charmander</td>\n",
       "      <td>Fire</td>\n",
       "      <td>NaN</td>\n",
       "      <td>39</td>\n",
       "      <td>52</td>\n",
       "      <td>43</td>\n",
       "      <td>60</td>\n",
       "      <td>50</td>\n",
       "      <td>65</td>\n",
       "      <td>False</td>\n",
       "    </tr>\n",
       "  </tbody>\n",
       "</table>\n",
       "</div>"
      ],
      "text/plain": [
       "   Pid           Name Class_1 Class_2  HP  Attack  Defense  Sp_Atk  Sp_Def  \\\n",
       "0    1      Bulbasaur   Grass  Poison  45      49       49      65      65   \n",
       "1    2        Ivysaur   Grass  Poison  60      62       63      80      80   \n",
       "2    3       Venusaur   Grass  Poison  80      82       83     100     100   \n",
       "3    4  Mega Venusaur   Grass  Poison  80     100      123     122     120   \n",
       "4    5     Charmander    Fire     NaN  39      52       43      60      50   \n",
       "\n",
       "   Speed  Legendary  \n",
       "0     45      False  \n",
       "1     60      False  \n",
       "2     80      False  \n",
       "3     80      False  \n",
       "4     65      False  "
      ]
     },
     "execution_count": 105,
     "metadata": {},
     "output_type": "execute_result"
    }
   ],
   "source": [
    "pokemon = pd.read_csv(\"pokemon.csv\", error_bad_lines=False)  # Откроем датасет\n",
    "# переименую столбцы в один формат\n",
    "pokemon = pokemon.rename(\n",
    "    columns={\n",
    "        \"pid\": \"Pid\",\n",
    "        \"Class 1\": \"Class_1\",\n",
    "        \"Class 2\": \"Class_2\",\n",
    "        \"Sp. Atk\": \"Sp_Atk\",\n",
    "        \"Sp. Def\": \"Sp_Def\",\n",
    "    }\n",
    ")\n",
    "pokemon.head()\n",
    "\n",
    "\n",
    "# Обратите внимание, что у покемона может быть один или два класса.\n",
    "# Если у покемона два класса, считается, что они имеют одинаковую значимость."
   ]
  },
  {
   "cell_type": "code",
   "execution_count": 106,
   "id": "04584048-9997-40ef-86a3-ee391edf7c3d",
   "metadata": {
    "execution": {
     "iopub.execute_input": "2022-08-18T16:03:00.198523Z",
     "iopub.status.busy": "2022-08-18T16:03:00.198523Z",
     "iopub.status.idle": "2022-08-18T16:03:00.215475Z",
     "shell.execute_reply": "2022-08-18T16:03:00.213483Z",
     "shell.execute_reply.started": "2022-08-18T16:03:00.198523Z"
    },
    "tags": []
   },
   "outputs": [],
   "source": [
    "# переименую NaN значения в 0\n",
    "pokemon = pokemon.fillna(0)"
   ]
  },
  {
   "cell_type": "markdown",
   "id": "8610aab6-df17-4b67-bd70-dec097bd37dd",
   "metadata": {},
   "source": [
    "### Задачи"
   ]
  },
  {
   "cell_type": "markdown",
   "id": "43d4e616-d0b2-49b1-8917-82550903dbf8",
   "metadata": {
    "tags": []
   },
   "source": [
    "<div class=\"alert alert-info\">\n",
    "    \n",
    "#### Задание № 1\n",
    "    \n",
    "Профессор Оук подозревает, что покемоны в классе `grass` имеют более сильную обычную атаку, чем у покемонов в классе `rock`. Проверьте, прав ли он, и убедите его в своем выводе статистически.\n",
    "    \n",
    "    \n",
    "Примечание: если есть покемоны, которые относятся к обоим классам, просто выбросьте их;\n",
    "    \n",
    "Вы можете предположить, что распределение обычных атак является нормальным для всех классов покемонов.\n",
    "\n",
    "</div>\n"
   ]
  },
  {
   "cell_type": "code",
   "execution_count": 107,
   "id": "797f9881-c8f8-46df-aee8-bdc05e419c51",
   "metadata": {
    "execution": {
     "iopub.execute_input": "2022-08-18T16:03:00.217470Z",
     "iopub.status.busy": "2022-08-18T16:03:00.217470Z",
     "iopub.status.idle": "2022-08-18T16:03:00.229439Z",
     "shell.execute_reply": "2022-08-18T16:03:00.229439Z",
     "shell.execute_reply.started": "2022-08-18T16:03:00.217470Z"
    },
    "tags": []
   },
   "outputs": [],
   "source": [
    "# гипотеза Н0\n",
    "H0_01 = \"все покемоны обладают одинаковой обычной атакой\"\n",
    "a_01 = 0.05"
   ]
  },
  {
   "cell_type": "code",
   "execution_count": 108,
   "id": "85d9a908-b665-4f13-8dc7-8930d33623ed",
   "metadata": {
    "execution": {
     "iopub.execute_input": "2022-08-18T16:03:00.230435Z",
     "iopub.status.busy": "2022-08-18T16:03:00.230435Z",
     "iopub.status.idle": "2022-08-18T16:03:00.261353Z",
     "shell.execute_reply": "2022-08-18T16:03:00.261353Z",
     "shell.execute_reply.started": "2022-08-18T16:03:00.230435Z"
    },
    "tags": []
   },
   "outputs": [
    {
     "name": "stderr",
     "output_type": "stream",
     "text": [
      "C:\\Users\\Dorzhe\\AppData\\Local\\Temp\\ipykernel_19576\\3412442703.py:3: UserWarning: Boolean Series key will be reindexed to match DataFrame index.\n",
      "  pokemon_01_a = pokemon_01_a[~(((pokemon['Class_1'] == \"Grass\") & (pokemon['Class_2'] == \"Rock\")) | ((pokemon['Class_2'] == \"Grass\") & (pokemon['Class_1'] == \"Rock\")))]\n"
     ]
    },
    {
     "data": {
      "text/plain": [
       "0       49\n",
       "1       62\n",
       "2       82\n",
       "3      100\n",
       "48      50\n",
       "      ... \n",
       "783     66\n",
       "784     90\n",
       "785     85\n",
       "786     95\n",
       "787    100\n",
       "Name: Attack, Length: 93, dtype: int64"
      ]
     },
     "execution_count": 108,
     "metadata": {},
     "output_type": "execute_result"
    }
   ],
   "source": [
    "# создам выборку А из класса Grass\n",
    "pokemon_01_a = pokemon[\n",
    "    (pokemon[\"Class_1\"] == \"Grass\") | (pokemon[\"Class_2\"] == \"Grass\")\n",
    "]\n",
    "pokemon_01_a = pokemon_01_a[\n",
    "    ~(\n",
    "        ((pokemon[\"Class_1\"] == \"Grass\") & (pokemon[\"Class_2\"] == \"Rock\"))\n",
    "        | ((pokemon[\"Class_2\"] == \"Grass\") & (pokemon[\"Class_1\"] == \"Rock\"))\n",
    "    )\n",
    "]\n",
    "pokemon_01_a = pokemon_01_a[\"Attack\"]\n",
    "pokemon_01_a.head(100)"
   ]
  },
  {
   "cell_type": "code",
   "execution_count": 109,
   "id": "efdc5a33-2d54-470d-840d-c1e94113aa20",
   "metadata": {
    "execution": {
     "iopub.execute_input": "2022-08-18T16:03:00.262351Z",
     "iopub.status.busy": "2022-08-18T16:03:00.262351Z",
     "iopub.status.idle": "2022-08-18T16:03:00.293268Z",
     "shell.execute_reply": "2022-08-18T16:03:00.293268Z",
     "shell.execute_reply.started": "2022-08-18T16:03:00.262351Z"
    },
    "tags": []
   },
   "outputs": [
    {
     "name": "stderr",
     "output_type": "stream",
     "text": [
      "C:\\Users\\Dorzhe\\AppData\\Local\\Temp\\ipykernel_19576\\1701034737.py:3: UserWarning: Boolean Series key will be reindexed to match DataFrame index.\n",
      "  pokemon_01_b = pokemon_01_b[~(((pokemon['Class_1'] == \"Rock\") & (pokemon['Class_2'] == \"Grass\")) | ((pokemon['Class_2'] == \"Rock\") & (pokemon['Class_1'] == \"Grass\")))]\n"
     ]
    },
    {
     "data": {
      "text/plain": [
       "80      80\n",
       "81      95\n",
       "82     120\n",
       "103     45\n",
       "119     85\n",
       "Name: Attack, dtype: int64"
      ]
     },
     "execution_count": 109,
     "metadata": {},
     "output_type": "execute_result"
    }
   ],
   "source": [
    "# создам выборку В из класса Rock\n",
    "pokemon_01_b = pokemon[\n",
    "    (pokemon[\"Class_1\"] == \"Rock\") | (pokemon[\"Class_2\"] == \"Rock\")\n",
    "]\n",
    "pokemon_01_b = pokemon_01_b[\n",
    "    ~(\n",
    "        ((pokemon[\"Class_1\"] == \"Rock\") & (pokemon[\"Class_2\"] == \"Grass\"))\n",
    "        | ((pokemon[\"Class_2\"] == \"Rock\") & (pokemon[\"Class_1\"] == \"Grass\"))\n",
    "    )\n",
    "]\n",
    "pokemon_01_b = pokemon_01_b[\"Attack\"]\n",
    "pokemon_01_b.head()"
   ]
  },
  {
   "cell_type": "code",
   "execution_count": 110,
   "id": "414bf616-8ce0-4ed5-8a05-4c5e89979e12",
   "metadata": {
    "execution": {
     "iopub.execute_input": "2022-08-18T16:03:00.294265Z",
     "iopub.status.busy": "2022-08-18T16:03:00.294265Z",
     "iopub.status.idle": "2022-08-18T16:03:00.309240Z",
     "shell.execute_reply": "2022-08-18T16:03:00.309240Z",
     "shell.execute_reply.started": "2022-08-18T16:03:00.294265Z"
    },
    "tags": []
   },
   "outputs": [
    {
     "data": {
      "text/plain": [
       "count     93.000000\n",
       "mean      73.731183\n",
       "std       24.179645\n",
       "min       27.000000\n",
       "25%       59.000000\n",
       "50%       70.000000\n",
       "75%       95.000000\n",
       "max      132.000000\n",
       "Name: Attack, dtype: float64"
      ]
     },
     "execution_count": 110,
     "metadata": {},
     "output_type": "execute_result"
    }
   ],
   "source": [
    "pokemon_01_a.describe()"
   ]
  },
  {
   "cell_type": "code",
   "execution_count": 111,
   "id": "98757541-d4d9-4116-8236-3a440f1bd103",
   "metadata": {
    "execution": {
     "iopub.execute_input": "2022-08-18T16:03:00.310223Z",
     "iopub.status.busy": "2022-08-18T16:03:00.310223Z",
     "iopub.status.idle": "2022-08-18T16:03:00.325182Z",
     "shell.execute_reply": "2022-08-18T16:03:00.325182Z",
     "shell.execute_reply.started": "2022-08-18T16:03:00.310223Z"
    },
    "tags": []
   },
   "outputs": [
    {
     "data": {
      "text/plain": [
       "count     56.000000\n",
       "mean      91.785714\n",
       "std       34.805284\n",
       "min       10.000000\n",
       "25%       63.000000\n",
       "50%       92.500000\n",
       "75%      116.250000\n",
       "max      165.000000\n",
       "Name: Attack, dtype: float64"
      ]
     },
     "execution_count": 111,
     "metadata": {},
     "output_type": "execute_result"
    }
   ],
   "source": [
    "pokemon_01_b.describe()"
   ]
  },
  {
   "cell_type": "code",
   "execution_count": 112,
   "id": "7513075c-6b3d-49a7-ad53-fee4ed3d0f39",
   "metadata": {
    "execution": {
     "iopub.execute_input": "2022-08-18T16:03:00.326180Z",
     "iopub.status.busy": "2022-08-18T16:03:00.326180Z",
     "iopub.status.idle": "2022-08-18T16:03:00.341141Z",
     "shell.execute_reply": "2022-08-18T16:03:00.341141Z",
     "shell.execute_reply.started": "2022-08-18T16:03:00.326180Z"
    },
    "tags": []
   },
   "outputs": [
    {
     "name": "stdout",
     "output_type": "stream",
     "text": [
      "Гипотеза H0_01='все покемоны обладают одинаковой обычной атакой' отклонена\n",
      "p_value_01=0.00027\n"
     ]
    }
   ],
   "source": [
    "# проверю, отличаются ли два независимых образца с помощью t-критерия Стьюдента\n",
    "t, p_value_01 = stats.ttest_ind(pokemon_01_a, pokemon_01_b)\n",
    "t, p_value_01\n",
    "\n",
    "if p_value_01 >= a_01:\n",
    "    print(f\"Гипотеза {H0_01=} не может быть отклонена\")\n",
    "else:\n",
    "    print(f\"Гипотеза {H0_01=} отклонена\")\n",
    "print(f\"{p_value_01=:.5f}\")"
   ]
  },
  {
   "cell_type": "code",
   "execution_count": 113,
   "id": "148e1a8e-fa98-497c-bc56-d18c051d35b8",
   "metadata": {
    "execution": {
     "iopub.execute_input": "2022-08-18T16:03:00.342138Z",
     "iopub.status.busy": "2022-08-18T16:03:00.342138Z",
     "iopub.status.idle": "2022-08-18T16:03:00.466803Z",
     "shell.execute_reply": "2022-08-18T16:03:00.466803Z",
     "shell.execute_reply.started": "2022-08-18T16:03:00.342138Z"
    },
    "tags": []
   },
   "outputs": [
    {
     "data": {
      "image/png": "[encoded data removed]",
      "text/plain": [
       "<Figure size 432x288 with 1 Axes>"
      ]
     },
     "metadata": {},
     "output_type": "display_data"
    }
   ],
   "source": [
    "# объединяю серии\n",
    "pokemon_01 = pd.concat([pokemon_01_a, pokemon_01_b], axis=1)\n",
    "# присваиваю имена столбцам\n",
    "pokemon_01.columns = [\"Grass\", \"Rock\"]\n",
    "# устанавливаю фоновую сетку\n",
    "sns.set_style(\"whitegrid\")\n",
    "# строю боксплот\n",
    "boxplot = sns.boxplot(data=pokemon_01)\n",
    "# строю диаграмму рассеивания\n",
    "boxplot = sns.stripplot(data=pokemon_01, color=\"black\", alpha=0.3)\n",
    "# присваиваю имя диаграмме и осям\n",
    "boxplot.axes.set_title(\"Распределение силы обычной атаки покемонов\")\n",
    "boxplot.set_xlabel(\"Класс покемонов\", fontsize=12)\n",
    "boxplot.set_ylabel(\"Сила обычной атаки\", fontsize=12)\n",
    "plt.show()"
   ]
  },
  {
   "cell_type": "markdown",
   "id": "fa970c87-d3df-48f8-88d5-e345c397f48c",
   "metadata": {
    "execution": {
     "iopub.execute_input": "2022-08-17T17:27:37.900982Z",
     "iopub.status.busy": "2022-08-17T17:27:37.900982Z",
     "iopub.status.idle": "2022-08-17T17:27:37.916941Z",
     "shell.execute_reply": "2022-08-17T17:27:37.915943Z",
     "shell.execute_reply.started": "2022-08-17T17:27:37.900982Z"
    },
    "tags": []
   },
   "source": [
    "<div class=\"alert alert-success\">\n",
    "Я не могу отклонить, что покемоны в классе Rock и Grass имеют разную силу обычной атаки"
   ]
  },
  {
   "cell_type": "markdown",
   "id": "abeca35b-6a6c-4722-b0f4-9e2dfe5e0e01",
   "metadata": {},
   "source": [
    "<div class=\"alert alert-info\">\n",
    "    \n",
    "#### Задание № 2\n",
    "    \n",
    "Профессор Оук уже долго не может спать по ночам ведь его волнует вопрос, а правда, что покемоны что покемоны в классе `Water` в среднем более быстрые, чем покемоны в классе `Normal`. \n",
    "    \n",
    "    \n",
    "Проверьте, прав ли он, и убедите его в своем выводе статистически.\n",
    "    \n",
    "Примечание: если есть покемоны относятся к обоим классам, выбросьте их;\n",
    "    \n",
    "Вы можете предположить, что распределение скорости движения является нормальным для всех классов покемонов.\n",
    "\n",
    "</div>"
   ]
  },
  {
   "cell_type": "code",
   "execution_count": 114,
   "id": "c2301192-e28f-475e-8a47-56d0a7e007ac",
   "metadata": {
    "execution": {
     "iopub.execute_input": "2022-08-18T16:03:00.467800Z",
     "iopub.status.busy": "2022-08-18T16:03:00.467800Z",
     "iopub.status.idle": "2022-08-18T16:03:00.482761Z",
     "shell.execute_reply": "2022-08-18T16:03:00.482761Z",
     "shell.execute_reply.started": "2022-08-18T16:03:00.467800Z"
    },
    "tags": []
   },
   "outputs": [],
   "source": [
    "# гипотеза Н0\n",
    "H0_02 = \"все покемоны обладают одинаковой скоростью\"\n",
    "a_02 = 0.05"
   ]
  },
  {
   "cell_type": "code",
   "execution_count": 115,
   "id": "170952f9-2d2e-4a5b-a20c-369fc3089e6a",
   "metadata": {
    "execution": {
     "iopub.execute_input": "2022-08-18T16:03:00.483759Z",
     "iopub.status.busy": "2022-08-18T16:03:00.483759Z",
     "iopub.status.idle": "2022-08-18T16:03:00.514679Z",
     "shell.execute_reply": "2022-08-18T16:03:00.513682Z",
     "shell.execute_reply.started": "2022-08-18T16:03:00.483759Z"
    },
    "tags": []
   },
   "outputs": [
    {
     "name": "stderr",
     "output_type": "stream",
     "text": [
      "C:\\Users\\Dorzhe\\AppData\\Local\\Temp\\ipykernel_19576\\3449178010.py:3: UserWarning: Boolean Series key will be reindexed to match DataFrame index.\n",
      "  pokemon_02_a = pokemon_02_a[~(((pokemon['Class_1'] == \"Water\") & (pokemon['Class_2'] == \"Normal\")) | ((pokemon['Class_2'] == \"Water\") & (pokemon['Class_1'] == \"Normal\")))]\n"
     ]
    },
    {
     "data": {
      "text/plain": [
       "9     43\n",
       "10    58\n",
       "11    78\n",
       "12    78\n",
       "59    55\n",
       "Name: Speed, dtype: int64"
      ]
     },
     "execution_count": 115,
     "metadata": {},
     "output_type": "execute_result"
    }
   ],
   "source": [
    "# создам выборку А из класса Water\n",
    "pokemon_02_a = pokemon[\n",
    "    (pokemon[\"Class_1\"] == \"Water\") | (pokemon[\"Class_2\"] == \"Water\")\n",
    "]\n",
    "pokemon_02_a = pokemon_02_a[\n",
    "    ~(\n",
    "        ((pokemon[\"Class_1\"] == \"Water\") & (pokemon[\"Class_2\"] == \"Normal\"))\n",
    "        | ((pokemon[\"Class_2\"] == \"Water\") & (pokemon[\"Class_1\"] == \"Normal\"))\n",
    "    )\n",
    "]\n",
    "pokemon_02_a = pokemon_02_a[\"Speed\"]\n",
    "pokemon_02_a.head()"
   ]
  },
  {
   "cell_type": "code",
   "execution_count": 116,
   "id": "6ed2a971-2562-4ace-ae52-31cb08cb5c5c",
   "metadata": {
    "execution": {
     "iopub.execute_input": "2022-08-18T16:03:00.516673Z",
     "iopub.status.busy": "2022-08-18T16:03:00.515676Z",
     "iopub.status.idle": "2022-08-18T16:03:00.545593Z",
     "shell.execute_reply": "2022-08-18T16:03:00.545593Z",
     "shell.execute_reply.started": "2022-08-18T16:03:00.516673Z"
    },
    "tags": []
   },
   "outputs": [
    {
     "name": "stderr",
     "output_type": "stream",
     "text": [
      "C:\\Users\\Dorzhe\\AppData\\Local\\Temp\\ipykernel_19576\\3832935837.py:3: UserWarning: Boolean Series key will be reindexed to match DataFrame index.\n",
      "  pokemon_02_b = pokemon_02_b[~(((pokemon['Class_1'] == \"Normal\") & (pokemon['Class_2'] == \"Water\")) | ((pokemon['Class_2'] == \"Normal\") & (pokemon['Class_1'] == \"Water\")))]\n"
     ]
    },
    {
     "data": {
      "text/plain": [
       "20     56\n",
       "21     71\n",
       "22    101\n",
       "23    121\n",
       "24     72\n",
       "Name: Speed, dtype: int64"
      ]
     },
     "execution_count": 116,
     "metadata": {},
     "output_type": "execute_result"
    }
   ],
   "source": [
    "# создам выборку В из класса Normal\n",
    "pokemon_02_b = pokemon[\n",
    "    (pokemon[\"Class_1\"] == \"Normal\") | (pokemon[\"Class_2\"] == \"Normal\")\n",
    "]\n",
    "pokemon_02_b = pokemon_02_b[\n",
    "    ~(\n",
    "        ((pokemon[\"Class_1\"] == \"Normal\") & (pokemon[\"Class_2\"] == \"Water\"))\n",
    "        | ((pokemon[\"Class_2\"] == \"Normal\") & (pokemon[\"Class_1\"] == \"Water\"))\n",
    "    )\n",
    "]\n",
    "pokemon_02_b = pokemon_02_b[\"Speed\"]\n",
    "pokemon_02_b.head()"
   ]
  },
  {
   "cell_type": "code",
   "execution_count": 117,
   "id": "fd6a0e39-e10c-4d1b-9292-dd127b9d30fb",
   "metadata": {
    "execution": {
     "iopub.execute_input": "2022-08-18T16:03:00.547588Z",
     "iopub.status.busy": "2022-08-18T16:03:00.546591Z",
     "iopub.status.idle": "2022-08-18T16:03:00.560554Z",
     "shell.execute_reply": "2022-08-18T16:03:00.560554Z",
     "shell.execute_reply.started": "2022-08-18T16:03:00.547588Z"
    },
    "tags": []
   },
   "outputs": [
    {
     "data": {
      "text/plain": [
       "count    125.00000\n",
       "mean      64.93600\n",
       "std       22.74889\n",
       "min       15.00000\n",
       "25%       50.00000\n",
       "50%       65.00000\n",
       "75%       81.00000\n",
       "max      122.00000\n",
       "Name: Speed, dtype: float64"
      ]
     },
     "execution_count": 117,
     "metadata": {},
     "output_type": "execute_result"
    }
   ],
   "source": [
    "pokemon_02_a.describe()"
   ]
  },
  {
   "cell_type": "code",
   "execution_count": 118,
   "id": "dd346faa-b5d8-4e57-8772-d473dd4b761c",
   "metadata": {
    "execution": {
     "iopub.execute_input": "2022-08-18T16:03:00.562548Z",
     "iopub.status.busy": "2022-08-18T16:03:00.562548Z",
     "iopub.status.idle": "2022-08-18T16:03:00.576510Z",
     "shell.execute_reply": "2022-08-18T16:03:00.576510Z",
     "shell.execute_reply.started": "2022-08-18T16:03:00.562548Z"
    },
    "tags": []
   },
   "outputs": [
    {
     "data": {
      "text/plain": [
       "count    101.000000\n",
       "mean      72.257426\n",
       "std       28.427330\n",
       "min        5.000000\n",
       "25%       50.000000\n",
       "50%       72.000000\n",
       "75%       93.000000\n",
       "max      135.000000\n",
       "Name: Speed, dtype: float64"
      ]
     },
     "execution_count": 118,
     "metadata": {},
     "output_type": "execute_result"
    }
   ],
   "source": [
    "pokemon_02_b.describe()"
   ]
  },
  {
   "cell_type": "code",
   "execution_count": 119,
   "id": "0456326a-15f7-4209-8f89-c03a92d2f77c",
   "metadata": {
    "execution": {
     "iopub.execute_input": "2022-08-18T16:03:00.578505Z",
     "iopub.status.busy": "2022-08-18T16:03:00.577509Z",
     "iopub.status.idle": "2022-08-18T16:03:00.592467Z",
     "shell.execute_reply": "2022-08-18T16:03:00.592467Z",
     "shell.execute_reply.started": "2022-08-18T16:03:00.578505Z"
    },
    "tags": []
   },
   "outputs": [
    {
     "name": "stdout",
     "output_type": "stream",
     "text": [
      "Гипотеза H0_02='все покемоны обладают одинаковой скоростью' отклонена\n",
      "p_value_02=0.033\n"
     ]
    }
   ],
   "source": [
    "# проверю, отличаются ли два независимых образца с помощью t-критерия Стьюдента\n",
    "t, p_value_02 = stats.ttest_ind(pokemon_02_a, pokemon_02_b)\n",
    "t, p_value_02\n",
    "\n",
    "if p_value_02 >= a_02:\n",
    "    print(f\"Гипотеза {H0_02=} не может быть отклонена\")\n",
    "else:\n",
    "    print(f\"Гипотеза {H0_02=} отклонена\")\n",
    "print(f\"{p_value_02=:.3f}\")"
   ]
  },
  {
   "cell_type": "code",
   "execution_count": 120,
   "id": "1f1a8b0e-2f66-4a49-b4a8-4fc807d9a23b",
   "metadata": {
    "execution": {
     "iopub.execute_input": "2022-08-18T16:03:00.593465Z",
     "iopub.status.busy": "2022-08-18T16:03:00.593465Z",
     "iopub.status.idle": "2022-08-18T16:03:00.704169Z",
     "shell.execute_reply": "2022-08-18T16:03:00.704169Z",
     "shell.execute_reply.started": "2022-08-18T16:03:00.593465Z"
    },
    "tags": []
   },
   "outputs": [
    {
     "data": {
      "image/png": "[encoded data removed]",
      "text/plain": [
       "<Figure size 432x288 with 1 Axes>"
      ]
     },
     "metadata": {},
     "output_type": "display_data"
    }
   ],
   "source": [
    "# объединяю серии\n",
    "pokemon_02 = pd.concat([pokemon_02_a, pokemon_02_b], axis=1)\n",
    "# присваиваю имена столбцам\n",
    "pokemon_02.columns = [\"Water\", \"Normal\"]\n",
    "# устанавливаю фоновую сетку\n",
    "sns.set_style(\"whitegrid\")\n",
    "# строю боксплот\n",
    "boxplot = sns.boxplot(data=pokemon_02)\n",
    "# строю диаграмму рассеивания\n",
    "boxplot = sns.stripplot(data=pokemon_02, color=\"black\", alpha=0.3)\n",
    "# присваиваю имя диаграмме и осям\n",
    "boxplot.axes.set_title(\"Распределение скорости покемонов\")\n",
    "boxplot.set_xlabel(\"Класс покемонов\", fontsize=12)\n",
    "boxplot.set_ylabel(\"Скорость\", fontsize=12)\n",
    "plt.show()"
   ]
  },
  {
   "cell_type": "markdown",
   "id": "4a86b0ac-4844-4c01-bc89-8a03a7fadbaf",
   "metadata": {
    "execution": {
     "iopub.execute_input": "2022-08-17T17:27:37.900982Z",
     "iopub.status.busy": "2022-08-17T17:27:37.900982Z",
     "iopub.status.idle": "2022-08-17T17:27:37.916941Z",
     "shell.execute_reply": "2022-08-17T17:27:37.915943Z",
     "shell.execute_reply.started": "2022-08-17T17:27:37.900982Z"
    },
    "tags": []
   },
   "source": [
    "<div class=\"alert alert-success\">\n",
    "Я не могу отклонить гипотезу, что покемоны в классе Normal и Water имеют разную  скорость"
   ]
  },
  {
   "cell_type": "markdown",
   "id": "b2907081-7f0f-403a-9192-729c323786b9",
   "metadata": {},
   "source": [
    "<div class=\"alert alert-info\">\n",
    "    \n",
    "#### Задание № 3\n",
    "    \n",
    "Профессор Оук тот еще безумец. Он изобрел сыворотку, способную ускорить покемона. Однако, мы усомнились в эффективности его вакцины. Професоор дал эту сыворотку следующим покемонам: смотри массив `treathed_pokemon`. Проверьте, работает ли вообще его сыворотка, убедите всех в своем выводе статистически.\n",
    "    \n",
    "    \n",
    "Вы можете предположить, что распределение скорости движения является нормальным для всех классов покемонов.\n",
    "\n",
    "</div>"
   ]
  },
  {
   "cell_type": "markdown",
   "id": "bb1c813b-b368-4d58-bd74-c9ea04308045",
   "metadata": {},
   "source": [
    "<div class=\"alert alert-block alert-danger\">\n",
    "недостаточно данных для решения"
   ]
  },
  {
   "cell_type": "markdown",
   "id": "2471b995-b7e5-4872-a437-40140adb2104",
   "metadata": {},
   "source": [
    "<div class=\"alert alert-info\">\n",
    "    \n",
    "#### Задание № 4\n",
    "    \n",
    "Профессор Оук тот еще безумец. Он изобрел сыворотку, способную ускорить покемона. Однако, мы усомнились в эффективности его вакцины. Професоор дал эту сыворотку следующим покемонам: смотри массив `treathed_pokemon`. Проверьте, работает ли вообще его сыворотка, убедите всех в своем выводе статистически.\n",
    "    \n",
    "    \n",
    "Вы можете предположить, что распределение скорости движения является нормальным для всех классов покемонов.\n",
    "\n",
    "</div>"
   ]
  },
  {
   "cell_type": "code",
   "execution_count": 121,
   "id": "c6c762a1-9236-40fd-aa8e-bb48444dd79a",
   "metadata": {
    "ExecuteTime": {
     "end_time": "2022-03-01T11:32:33.055532Z",
     "start_time": "2022-03-01T11:32:33.044535Z"
    },
    "execution": {
     "iopub.execute_input": "2022-08-18T16:03:00.705166Z",
     "iopub.status.busy": "2022-08-18T16:03:00.705166Z",
     "iopub.status.idle": "2022-08-18T16:03:00.720126Z",
     "shell.execute_reply": "2022-08-18T16:03:00.720126Z",
     "shell.execute_reply.started": "2022-08-18T16:03:00.705166Z"
    }
   },
   "outputs": [],
   "source": [
    "# Покемоны, которые принимали сыворотку увеличения скорости\n",
    "treathed_pokemon = [\n",
    "    \"Mega Beedrill\",\n",
    "    \"Mega Alakazam\",\n",
    "    \"Deoxys Normal Forme\",\n",
    "    \"Mega Lopunny\",\n",
    "]"
   ]
  },
  {
   "cell_type": "code",
   "execution_count": 122,
   "id": "6f093c7e-c258-4dbd-a60c-024f2d43660b",
   "metadata": {
    "execution": {
     "iopub.execute_input": "2022-08-18T16:03:00.721123Z",
     "iopub.status.busy": "2022-08-18T16:03:00.721123Z",
     "iopub.status.idle": "2022-08-18T16:03:00.737086Z",
     "shell.execute_reply": "2022-08-18T16:03:00.736084Z",
     "shell.execute_reply.started": "2022-08-18T16:03:00.721123Z"
    },
    "tags": []
   },
   "outputs": [],
   "source": [
    "# гипотеза Н0\n",
    "H0_04 = \"сыворотка ускорения не действует\"\n",
    "a_04 = 0.05"
   ]
  },
  {
   "cell_type": "code",
   "execution_count": 123,
   "id": "7346a10d-bf73-4cad-81a6-de8f0ae450ed",
   "metadata": {
    "execution": {
     "iopub.execute_input": "2022-08-18T16:03:00.738077Z",
     "iopub.status.busy": "2022-08-18T16:03:00.738077Z",
     "iopub.status.idle": "2022-08-18T16:03:00.752041Z",
     "shell.execute_reply": "2022-08-18T16:03:00.752041Z",
     "shell.execute_reply.started": "2022-08-18T16:03:00.738077Z"
    },
    "tags": []
   },
   "outputs": [
    {
     "data": {
      "text/plain": [
       "19     145\n",
       "71     150\n",
       "428    150\n",
       "476    135\n",
       "Name: Speed, dtype: int64"
      ]
     },
     "execution_count": 123,
     "metadata": {},
     "output_type": "execute_result"
    }
   ],
   "source": [
    "# создам выборку А из покемонов с сывороткой\n",
    "pokemon_04_a = pokemon[pokemon[\"Name\"].isin(treathed_pokemon)]\n",
    "pokemon_04_a = pokemon_04_a[\"Speed\"]\n",
    "pokemon_04_a.head()"
   ]
  },
  {
   "cell_type": "code",
   "execution_count": 124,
   "id": "fe59f411-101d-4055-896a-2a6fb0646435",
   "metadata": {
    "execution": {
     "iopub.execute_input": "2022-08-18T16:03:00.753039Z",
     "iopub.status.busy": "2022-08-18T16:03:00.753039Z",
     "iopub.status.idle": "2022-08-18T16:03:00.767998Z",
     "shell.execute_reply": "2022-08-18T16:03:00.767998Z",
     "shell.execute_reply.started": "2022-08-18T16:03:00.753039Z"
    },
    "tags": []
   },
   "outputs": [
    {
     "data": {
      "text/plain": [
       "0    45\n",
       "1    60\n",
       "2    80\n",
       "3    80\n",
       "4    65\n",
       "Name: Speed, dtype: int64"
      ]
     },
     "execution_count": 124,
     "metadata": {},
     "output_type": "execute_result"
    }
   ],
   "source": [
    "# создам выборку В из покемонов без сывортки\n",
    "pokemon_04_b = pokemon[~pokemon[\"Name\"].isin(treathed_pokemon)]\n",
    "pokemon_04_b = pokemon_04_b[\"Speed\"]\n",
    "pokemon_04_b.head()"
   ]
  },
  {
   "cell_type": "code",
   "execution_count": 125,
   "id": "e10b50f4-4ed6-4069-b467-ee6e1341e1ca",
   "metadata": {
    "execution": {
     "iopub.execute_input": "2022-08-18T16:03:00.771987Z",
     "iopub.status.busy": "2022-08-18T16:03:00.771987Z",
     "iopub.status.idle": "2022-08-18T16:03:00.782958Z",
     "shell.execute_reply": "2022-08-18T16:03:00.782958Z",
     "shell.execute_reply.started": "2022-08-18T16:03:00.771987Z"
    },
    "tags": []
   },
   "outputs": [
    {
     "data": {
      "text/plain": [
       "count      4.000000\n",
       "mean     145.000000\n",
       "std        7.071068\n",
       "min      135.000000\n",
       "25%      142.500000\n",
       "50%      147.500000\n",
       "75%      150.000000\n",
       "max      150.000000\n",
       "Name: Speed, dtype: float64"
      ]
     },
     "execution_count": 125,
     "metadata": {},
     "output_type": "execute_result"
    }
   ],
   "source": [
    "pokemon_04_a.describe()"
   ]
  },
  {
   "cell_type": "code",
   "execution_count": 126,
   "id": "c28e11e5-6c2a-43cb-ae1c-e8641004a463",
   "metadata": {
    "execution": {
     "iopub.execute_input": "2022-08-18T16:03:00.783957Z",
     "iopub.status.busy": "2022-08-18T16:03:00.783957Z",
     "iopub.status.idle": "2022-08-18T16:03:00.798915Z",
     "shell.execute_reply": "2022-08-18T16:03:00.798915Z",
     "shell.execute_reply.started": "2022-08-18T16:03:00.783957Z"
    },
    "tags": []
   },
   "outputs": [
    {
     "data": {
      "text/plain": [
       "count    796.000000\n",
       "mean      67.891960\n",
       "std       28.614785\n",
       "min        5.000000\n",
       "25%       45.000000\n",
       "50%       65.000000\n",
       "75%       90.000000\n",
       "max      180.000000\n",
       "Name: Speed, dtype: float64"
      ]
     },
     "execution_count": 126,
     "metadata": {},
     "output_type": "execute_result"
    }
   ],
   "source": [
    "pokemon_04_b.describe()"
   ]
  },
  {
   "cell_type": "code",
   "execution_count": 127,
   "id": "00c0ce96-1ef9-4eb4-9084-0d51ed730f9b",
   "metadata": {
    "execution": {
     "iopub.execute_input": "2022-08-18T16:03:00.799913Z",
     "iopub.status.busy": "2022-08-18T16:03:00.799913Z",
     "iopub.status.idle": "2022-08-18T16:03:00.814873Z",
     "shell.execute_reply": "2022-08-18T16:03:00.814873Z",
     "shell.execute_reply.started": "2022-08-18T16:03:00.799913Z"
    },
    "tags": []
   },
   "outputs": [
    {
     "name": "stdout",
     "output_type": "stream",
     "text": [
      "Гипотеза H0_04='сыворотка ускорения не действует' отклонена\n",
      "p_value_04=0.0000000952\n"
     ]
    }
   ],
   "source": [
    "# проверю, отличаются ли два независимых образца с помощью t-критерия Стьюдента\n",
    "t, p_value_04 = stats.ttest_ind(pokemon_04_a, pokemon_04_b)\n",
    "t, p_value_04\n",
    "\n",
    "if p_value_04 >= a_04:\n",
    "    print(f\"Гипотеза {H0_04=} не может быть отклонена\")\n",
    "else:\n",
    "    print(f\"Гипотеза {H0_04=} отклонена\")\n",
    "print(f\"{p_value_04=:.10f}\")"
   ]
  },
  {
   "cell_type": "code",
   "execution_count": 128,
   "id": "39e272d1-9f5e-4c3f-9ac9-6c382e218bde",
   "metadata": {
    "execution": {
     "iopub.execute_input": "2022-08-18T16:03:00.815873Z",
     "iopub.status.busy": "2022-08-18T16:03:00.815873Z",
     "iopub.status.idle": "2022-08-18T16:03:00.937862Z",
     "shell.execute_reply": "2022-08-18T16:03:00.937862Z",
     "shell.execute_reply.started": "2022-08-18T16:03:00.815873Z"
    },
    "tags": []
   },
   "outputs": [
    {
     "data": {
      "image/png": "[encoded data removed]",
      "text/plain": [
       "<Figure size 432x288 with 1 Axes>"
      ]
     },
     "metadata": {},
     "output_type": "display_data"
    }
   ],
   "source": [
    "# объединяю серии\n",
    "pokemon_04 = pd.concat([pokemon_04_a, pokemon_04_b], axis=1)\n",
    "# присваиваю имена столбцам\n",
    "pokemon_04.columns = [\"Upgraded\", \"Standart\"]\n",
    "# устанавливаю фоновую сетку\n",
    "sns.set_style(\"whitegrid\")\n",
    "# строю боксплот\n",
    "boxplot = sns.boxplot(data=pokemon_04)\n",
    "# строю диаграмму рассеивания\n",
    "boxplot = sns.stripplot(data=pokemon_04, color=\"black\", alpha=0.3)\n",
    "# присваиваю имя диаграмме и осям\n",
    "boxplot.axes.set_title(\"Распределение скорости покемонов\")\n",
    "boxplot.set_xlabel(\"Тип покемона\", fontsize=12)\n",
    "boxplot.set_ylabel(\"Скорость\", fontsize=12)\n",
    "plt.show()"
   ]
  },
  {
   "cell_type": "markdown",
   "id": "c4196025-7e2e-4e66-8cdf-abe4152b5ef4",
   "metadata": {
    "execution": {
     "iopub.execute_input": "2022-08-17T17:27:37.900982Z",
     "iopub.status.busy": "2022-08-17T17:27:37.900982Z",
     "iopub.status.idle": "2022-08-17T17:27:37.916941Z",
     "shell.execute_reply": "2022-08-17T17:27:37.915943Z",
     "shell.execute_reply.started": "2022-08-17T17:27:37.900982Z"
    },
    "tags": []
   },
   "source": [
    "<div class=\"alert alert-success\">\n",
    "Я не могу отклонить гипотезу, что сыворотка действует"
   ]
  },
  {
   "cell_type": "markdown",
   "id": "03c61c79-9ac7-4b5e-8fb4-3e29cbd2808b",
   "metadata": {},
   "source": [
    "<div class=\"alert alert-info\">\n",
    "    \n",
    "#### Задание № 5\n",
    "    \n",
    "Профессор Оук всегда любил истории про легендарных покемонов. Однако, профессор не очень уверен, что они самые лучшие относительно остальных покемонов. Оук предложил разобраться в этом нам. Проверьте, действительно ли сумма характеристик `HP`,`Attack`,`Defense` у легендарных покемонов выше, чем у других покемонов? А произведение этих же параметров?? Найдите ответы на эти вопросы и убедите всех в своем выводе статистически.\n",
    "   \n",
    "\n",
    "Вы можете предположить, что распределение сум и произведений этих параметров является нормальным для всех классов покемонов.\n",
    "\n",
    "</div>"
   ]
  },
  {
   "cell_type": "code",
   "execution_count": 129,
   "id": "a6b37a2a-2541-47c9-9d40-3dd933b3912e",
   "metadata": {
    "execution": {
     "iopub.execute_input": "2022-08-18T16:03:00.938860Z",
     "iopub.status.busy": "2022-08-18T16:03:00.938860Z",
     "iopub.status.idle": "2022-08-18T16:03:00.953823Z",
     "shell.execute_reply": "2022-08-18T16:03:00.953823Z",
     "shell.execute_reply.started": "2022-08-18T16:03:00.938860Z"
    },
    "tags": []
   },
   "outputs": [],
   "source": [
    "# гипотеза Н0\n",
    "H0_05 = \"легендарные и обычные покемоны не отличаются\"\n",
    "a_05 = 0.05"
   ]
  },
  {
   "cell_type": "code",
   "execution_count": 145,
   "id": "aa77b3b3-a56c-4b92-89ea-b00d8871f29c",
   "metadata": {
    "execution": {
     "iopub.execute_input": "2022-08-18T16:03:04.379916Z",
     "iopub.status.busy": "2022-08-18T16:03:04.379916Z",
     "iopub.status.idle": "2022-08-18T16:03:04.393878Z",
     "shell.execute_reply": "2022-08-18T16:03:04.393878Z",
     "shell.execute_reply.started": "2022-08-18T16:03:04.379916Z"
    },
    "tags": []
   },
   "outputs": [],
   "source": [
    "# проссумирую три показателя\n",
    "pokemon[\"sum_leg\"] = pokemon[[\"HP\", \"Attack\", \"Defense\"]].sum(axis=1)"
   ]
  },
  {
   "cell_type": "code",
   "execution_count": 131,
   "id": "ef85a3f2-1b0f-4162-acdd-c456078677d5",
   "metadata": {
    "execution": {
     "iopub.execute_input": "2022-08-18T16:03:00.984737Z",
     "iopub.status.busy": "2022-08-18T16:03:00.984737Z",
     "iopub.status.idle": "2022-08-18T16:03:00.998700Z",
     "shell.execute_reply": "2022-08-18T16:03:00.998700Z",
     "shell.execute_reply.started": "2022-08-18T16:03:00.984737Z"
    },
    "tags": []
   },
   "outputs": [
    {
     "data": {
      "text/plain": [
       "156    275\n",
       "157    265\n",
       "158    280\n",
       "162    306\n",
       "163    396\n",
       "Name: sum_leg, dtype: int64"
      ]
     },
     "execution_count": 131,
     "metadata": {},
     "output_type": "execute_result"
    }
   ],
   "source": [
    "# создам выборку А из покемонов Legacy\n",
    "pokemon_05_a = pokemon[pokemon[\"Legendary\"] == True]\n",
    "pokemon_05_a = pokemon_05_a[\"sum_leg\"]\n",
    "pokemon_05_a.head()"
   ]
  },
  {
   "cell_type": "code",
   "execution_count": 132,
   "id": "767e3055-4a1c-4799-9b9e-9f24b1c6632d",
   "metadata": {
    "execution": {
     "iopub.execute_input": "2022-08-18T16:03:00.999697Z",
     "iopub.status.busy": "2022-08-18T16:03:00.999697Z",
     "iopub.status.idle": "2022-08-18T16:03:01.014657Z",
     "shell.execute_reply": "2022-08-18T16:03:01.014657Z",
     "shell.execute_reply.started": "2022-08-18T16:03:00.999697Z"
    },
    "tags": []
   },
   "outputs": [
    {
     "data": {
      "text/plain": [
       "0     49\n",
       "1     63\n",
       "2     83\n",
       "3    123\n",
       "4     43\n",
       "Name: Defense, dtype: int64"
      ]
     },
     "execution_count": 132,
     "metadata": {},
     "output_type": "execute_result"
    }
   ],
   "source": [
    "# создам выборку В из покемонов Normal_defense\n",
    "pokemon_05_b = pokemon[pokemon[\"Legendary\"] == False]\n",
    "pokemon_05_b = pokemon_05_b[\"Defense\"]\n",
    "pokemon_05_b.head()"
   ]
  },
  {
   "cell_type": "code",
   "execution_count": 133,
   "id": "b44479dc-6ae6-42ac-881d-56e5405acc89",
   "metadata": {
    "execution": {
     "iopub.execute_input": "2022-08-18T16:03:01.015655Z",
     "iopub.status.busy": "2022-08-18T16:03:01.015655Z",
     "iopub.status.idle": "2022-08-18T16:03:01.029618Z",
     "shell.execute_reply": "2022-08-18T16:03:01.029618Z",
     "shell.execute_reply.started": "2022-08-18T16:03:01.015655Z"
    },
    "tags": []
   },
   "outputs": [
    {
     "data": {
      "text/plain": [
       "count     65.000000\n",
       "mean     309.076923\n",
       "std       46.429822\n",
       "min      230.000000\n",
       "25%      275.000000\n",
       "50%      305.000000\n",
       "75%      340.000000\n",
       "max      440.000000\n",
       "Name: sum_leg, dtype: float64"
      ]
     },
     "execution_count": 133,
     "metadata": {},
     "output_type": "execute_result"
    }
   ],
   "source": [
    "pokemon_05_a.describe()"
   ]
  },
  {
   "cell_type": "code",
   "execution_count": 134,
   "id": "e6287008-26ab-4cae-81d7-bb518c017785",
   "metadata": {
    "execution": {
     "iopub.execute_input": "2022-08-18T16:03:01.030616Z",
     "iopub.status.busy": "2022-08-18T16:03:01.030616Z",
     "iopub.status.idle": "2022-08-18T16:03:01.052569Z",
     "shell.execute_reply": "2022-08-18T16:03:01.045580Z",
     "shell.execute_reply.started": "2022-08-18T16:03:01.030616Z"
    },
    "tags": []
   },
   "outputs": [
    {
     "data": {
      "text/plain": [
       "count    735.000000\n",
       "mean      71.559184\n",
       "std       30.408194\n",
       "min        5.000000\n",
       "25%       50.000000\n",
       "50%       66.000000\n",
       "75%       85.000000\n",
       "max      230.000000\n",
       "Name: Defense, dtype: float64"
      ]
     },
     "execution_count": 134,
     "metadata": {},
     "output_type": "execute_result"
    }
   ],
   "source": [
    "pokemon_05_b.describe()"
   ]
  },
  {
   "cell_type": "code",
   "execution_count": 135,
   "id": "12d055ac-5400-4ee1-8862-368a1f6f307e",
   "metadata": {
    "execution": {
     "iopub.execute_input": "2022-08-18T16:03:01.059537Z",
     "iopub.status.busy": "2022-08-18T16:03:01.059537Z",
     "iopub.status.idle": "2022-08-18T16:03:01.077490Z",
     "shell.execute_reply": "2022-08-18T16:03:01.076492Z",
     "shell.execute_reply.started": "2022-08-18T16:03:01.059537Z"
    },
    "tags": []
   },
   "outputs": [
    {
     "name": "stdout",
     "output_type": "stream",
     "text": [
      "Гипотеза H0_05='легендарные и обычные покемоны не отличаются' отклонена\n",
      "p_value_05=0.00000000000000000000\n"
     ]
    }
   ],
   "source": [
    "# проверю, отличаются ли два независимых образца с помощью t-критерия Стьюдента\n",
    "t, p_value_05 = stats.ttest_ind(pokemon_05_a, pokemon_05_b)\n",
    "t, p_value_05\n",
    "\n",
    "if p_value_05 >= a_05:\n",
    "    print(f\"Гипотеза {H0_05=} не может быть отклонена\")\n",
    "else:\n",
    "    print(f\"Гипотеза {H0_05=} отклонена\")\n",
    "print(f\"{p_value_05=:.20f}\")"
   ]
  },
  {
   "cell_type": "code",
   "execution_count": 136,
   "id": "e6905eae-736c-4901-acf8-0aaaf56a7a0c",
   "metadata": {
    "execution": {
     "iopub.execute_input": "2022-08-18T16:03:01.079483Z",
     "iopub.status.busy": "2022-08-18T16:03:01.078488Z",
     "iopub.status.idle": "2022-08-18T16:03:01.215121Z",
     "shell.execute_reply": "2022-08-18T16:03:01.215121Z",
     "shell.execute_reply.started": "2022-08-18T16:03:01.078488Z"
    },
    "tags": []
   },
   "outputs": [
    {
     "data": {
      "image/png": "[encoded data removed]",
      "text/plain": [
       "<Figure size 432x288 with 1 Axes>"
      ]
     },
     "metadata": {},
     "output_type": "display_data"
    }
   ],
   "source": [
    "# объединяю серии\n",
    "pokemon_05 = pd.concat([pokemon_05_a, pokemon_05_b], axis=1)\n",
    "# присваиваю имена столбцам\n",
    "pokemon_05.columns = [\"High_defense\", \"Normal_defense\"]\n",
    "# устанавливаю фоновую сетку\n",
    "sns.set_style(\"whitegrid\")\n",
    "# строю боксплот\n",
    "boxplot = sns.boxplot(data=pokemon_05)\n",
    "# строю диаграмму рассеивания\n",
    "boxplot = sns.stripplot(data=pokemon_05, color=\"black\", alpha=0.3)\n",
    "# присваиваю имя диаграмме и осям\n",
    "boxplot.axes.set_title(\"Распределение уровня защиты покемонов\")\n",
    "boxplot.set_xlabel(\"Покемон с уровнем защиты\", fontsize=12)\n",
    "boxplot.set_ylabel(\"Уровень защиты\", fontsize=12)\n",
    "plt.show()"
   ]
  },
  {
   "cell_type": "markdown",
   "id": "76fa215b-f46f-4cc3-b3ff-a9c7fcd360c3",
   "metadata": {
    "execution": {
     "iopub.execute_input": "2022-08-17T17:27:37.900982Z",
     "iopub.status.busy": "2022-08-17T17:27:37.900982Z",
     "iopub.status.idle": "2022-08-17T17:27:37.916941Z",
     "shell.execute_reply": "2022-08-17T17:27:37.915943Z",
     "shell.execute_reply.started": "2022-08-17T17:27:37.900982Z"
    },
    "tags": []
   },
   "source": [
    "<div class=\"alert alert-success\">\n",
    "    Я не могу отклонить гипотезу, что легендарные и обычные покемоны отличаются по характеристика HP Attack Defense"
   ]
  },
  {
   "cell_type": "markdown",
   "id": "76c488e1-8cb4-40a5-bd65-a7a5f4c9a349",
   "metadata": {},
   "source": [
    "<div class=\"alert alert-info\">\n",
    "    \n",
    "#### Задание № 6\n",
    "    \n",
    "Профессор Оук частенько наблюдает за боями покемонов. После очередных таких боев Оук выделил три класса `best_defence_class`, которые на его взгляд одинаковы по \"силе обычной защиты\" `Defense`. Проверьте, действительно ли эти классы покемонов не отличаются по уровню защиты статистически значимо? Все та же статистика вам в помощь! \n",
    "   \n",
    "\n",
    "Вы можете предположить, что распределение сум и произведений этих параметров является нормальным для всех классов покемонов.\n",
    "\n",
    "</div>"
   ]
  },
  {
   "cell_type": "code",
   "execution_count": 137,
   "id": "41bc004f-6115-4c6f-832c-d2924cc0b620",
   "metadata": {
    "ExecuteTime": {
     "end_time": "2022-03-01T11:32:33.070533Z",
     "start_time": "2022-03-01T11:32:33.060532Z"
    },
    "execution": {
     "iopub.execute_input": "2022-08-18T16:03:01.217117Z",
     "iopub.status.busy": "2022-08-18T16:03:01.216119Z",
     "iopub.status.idle": "2022-08-18T16:03:01.231078Z",
     "shell.execute_reply": "2022-08-18T16:03:01.231078Z",
     "shell.execute_reply.started": "2022-08-18T16:03:01.217117Z"
    }
   },
   "outputs": [
    {
     "data": {
      "text/plain": [
       "['Rock', 'Ground', 'Steel', 'Ice']"
      ]
     },
     "execution_count": 137,
     "metadata": {},
     "output_type": "execute_result"
    }
   ],
   "source": [
    "best_defence_class = [\"Rock\", \"Ground\", \"Steel\", \"Ice\"]\n",
    "best_defence_class"
   ]
  },
  {
   "cell_type": "code",
   "execution_count": 138,
   "id": "2ac82e10-c78f-4020-9ef0-ce2398d7a3a9",
   "metadata": {
    "execution": {
     "iopub.execute_input": "2022-08-18T16:03:01.232076Z",
     "iopub.status.busy": "2022-08-18T16:03:01.232076Z",
     "iopub.status.idle": "2022-08-18T16:03:01.248035Z",
     "shell.execute_reply": "2022-08-18T16:03:01.247037Z",
     "shell.execute_reply.started": "2022-08-18T16:03:01.232076Z"
    },
    "tags": []
   },
   "outputs": [],
   "source": [
    "# гипотеза Н0\n",
    "H0_06 = \"покемоны не отличаются по уровню защиты\"\n",
    "a_06 = 0.05"
   ]
  },
  {
   "cell_type": "code",
   "execution_count": 139,
   "id": "2c55d0d1-4a33-453d-8541-462c53875866",
   "metadata": {
    "execution": {
     "iopub.execute_input": "2022-08-18T16:03:01.251031Z",
     "iopub.status.busy": "2022-08-18T16:03:01.250032Z",
     "iopub.status.idle": "2022-08-18T16:03:01.262993Z",
     "shell.execute_reply": "2022-08-18T16:03:01.262993Z",
     "shell.execute_reply.started": "2022-08-18T16:03:01.251031Z"
    },
    "tags": []
   },
   "outputs": [
    {
     "data": {
      "text/plain": [
       "32     85\n",
       "33    110\n",
       "36     87\n",
       "39     77\n",
       "55     25\n",
       "Name: Defense, dtype: int64"
      ]
     },
     "execution_count": 139,
     "metadata": {},
     "output_type": "execute_result"
    }
   ],
   "source": [
    "# создам выборку А из покемонов High_defense\n",
    "pokemon_06_a = pokemon[\n",
    "    pokemon[\"Class_1\"].isin(best_defence_class)\n",
    "    | pokemon[\"Class_2\"].isin(best_defence_class)\n",
    "]\n",
    "pokemon_06_a = pokemon_06_a[\"Defense\"]\n",
    "pokemon_06_a.head()"
   ]
  },
  {
   "cell_type": "code",
   "execution_count": 140,
   "id": "db961061-6f3d-4fd3-86f9-90011795863b",
   "metadata": {
    "execution": {
     "iopub.execute_input": "2022-08-18T16:03:01.263990Z",
     "iopub.status.busy": "2022-08-18T16:03:01.263990Z",
     "iopub.status.idle": "2022-08-18T16:03:01.279947Z",
     "shell.execute_reply": "2022-08-18T16:03:01.278949Z",
     "shell.execute_reply.started": "2022-08-18T16:03:01.263990Z"
    },
    "tags": []
   },
   "outputs": [
    {
     "data": {
      "text/plain": [
       "0     49\n",
       "1     63\n",
       "2     83\n",
       "3    123\n",
       "4     43\n",
       "Name: Defense, dtype: int64"
      ]
     },
     "execution_count": 140,
     "metadata": {},
     "output_type": "execute_result"
    }
   ],
   "source": [
    "# создам выборку В из покемонов Normal_defense\n",
    "pokemon_06_b = pokemon[\n",
    "    ~pokemon[\"Class_1\"].isin(best_defence_class)\n",
    "    | pokemon[\"Class_2\"].isin(best_defence_class)\n",
    "]\n",
    "pokemon_06_b = pokemon_06_b[\"Defense\"]\n",
    "pokemon_06_b.head()"
   ]
  },
  {
   "cell_type": "code",
   "execution_count": 141,
   "id": "10cbc66f-1f39-4737-a80f-0d5d26e58d64",
   "metadata": {
    "execution": {
     "iopub.execute_input": "2022-08-18T16:03:01.280944Z",
     "iopub.status.busy": "2022-08-18T16:03:01.280944Z",
     "iopub.status.idle": "2022-08-18T16:03:01.294908Z",
     "shell.execute_reply": "2022-08-18T16:03:01.294908Z",
     "shell.execute_reply.started": "2022-08-18T16:03:01.280944Z"
    },
    "tags": []
   },
   "outputs": [
    {
     "data": {
      "text/plain": [
       "count    189.000000\n",
       "mean      95.666667\n",
       "std       38.516092\n",
       "min       15.000000\n",
       "25%       70.000000\n",
       "50%       90.000000\n",
       "75%      115.000000\n",
       "max      230.000000\n",
       "Name: Defense, dtype: float64"
      ]
     },
     "execution_count": 141,
     "metadata": {},
     "output_type": "execute_result"
    }
   ],
   "source": [
    "pokemon_06_a.describe()"
   ]
  },
  {
   "cell_type": "code",
   "execution_count": 142,
   "id": "8008b877-fa00-48c7-be03-710fe135bacf",
   "metadata": {
    "execution": {
     "iopub.execute_input": "2022-08-18T16:03:01.296903Z",
     "iopub.status.busy": "2022-08-18T16:03:01.295906Z",
     "iopub.status.idle": "2022-08-18T16:03:01.309868Z",
     "shell.execute_reply": "2022-08-18T16:03:01.309868Z",
     "shell.execute_reply.started": "2022-08-18T16:03:01.296903Z"
    },
    "tags": []
   },
   "outputs": [
    {
     "data": {
      "text/plain": [
       "count    696.000000\n",
       "mean      71.021552\n",
       "std       28.957937\n",
       "min        5.000000\n",
       "25%       50.000000\n",
       "50%       67.000000\n",
       "75%       86.250000\n",
       "max      230.000000\n",
       "Name: Defense, dtype: float64"
      ]
     },
     "execution_count": 142,
     "metadata": {},
     "output_type": "execute_result"
    }
   ],
   "source": [
    "pokemon_06_b.describe()"
   ]
  },
  {
   "cell_type": "code",
   "execution_count": 150,
   "id": "13617a62-e495-4d4f-aab7-ca4d7c1924f7",
   "metadata": {
    "execution": {
     "iopub.execute_input": "2022-08-18T16:10:04.962643Z",
     "iopub.status.busy": "2022-08-18T16:10:04.962643Z",
     "iopub.status.idle": "2022-08-18T16:10:04.977603Z",
     "shell.execute_reply": "2022-08-18T16:10:04.977603Z",
     "shell.execute_reply.started": "2022-08-18T16:10:04.962643Z"
    },
    "tags": []
   },
   "outputs": [
    {
     "name": "stdout",
     "output_type": "stream",
     "text": [
      "Гипотеза H0_06='покемоны не отличаются по уровню защиты' отклонена\n",
      "p_value_06=0.00000000000000000001\n"
     ]
    }
   ],
   "source": [
    "# проверю, отличаются ли два независимых образца с помощью t-критерия Стьюдента\n",
    "t, p_value_06 = stats.ttest_ind(pokemon_06_a, pokemon_06_b)\n",
    "t, p_value_06\n",
    "\n",
    "if p_value_06 >= a_06:\n",
    "    print(f\"Гипотеза {H0_06=} не может быть отклонена\")\n",
    "else:\n",
    "    print(f\"Гипотеза {H0_06=} отклонена\")\n",
    "print(f\"{p_value_06=:.20f}\")"
   ]
  },
  {
   "cell_type": "code",
   "execution_count": 144,
   "id": "16028ae9-6222-40fa-bcea-8fd40e11f475",
   "metadata": {
    "execution": {
     "iopub.execute_input": "2022-08-18T16:03:01.328817Z",
     "iopub.status.busy": "2022-08-18T16:03:01.327822Z",
     "iopub.status.idle": "2022-08-18T16:03:01.532280Z",
     "shell.execute_reply": "2022-08-18T16:03:01.531276Z",
     "shell.execute_reply.started": "2022-08-18T16:03:01.328817Z"
    },
    "tags": []
   },
   "outputs": [
    {
     "data": {
      "image/png": "[encoded data removed]",
      "text/plain": [
       "<Figure size 432x288 with 1 Axes>"
      ]
     },
     "metadata": {},
     "output_type": "display_data"
    }
   ],
   "source": [
    "# объединяю серии\n",
    "pokemon_06 = pd.concat([pokemon_06_a, pokemon_06_b], axis=1)\n",
    "# присваиваю имена столбцам\n",
    "pokemon_06.columns = [\"High_defense\", \"Normal_defense\"]\n",
    "# устанавливаю фоновую сетку\n",
    "sns.set_style(\"whitegrid\")\n",
    "# строю боксплот\n",
    "boxplot = sns.boxplot(data=pokemon_06)\n",
    "# строю диаграмму рассеивания\n",
    "boxplot = sns.stripplot(data=pokemon_06, color=\"black\", alpha=0.3)\n",
    "# присваиваю имя диаграмме и осям\n",
    "boxplot.axes.set_title(\"Распределение уровня защиты покемонов\")\n",
    "boxplot.set_xlabel(\"Покемон с уровнем защиты\", fontsize=12)\n",
    "boxplot.set_ylabel(\"Уровень защиты\", fontsize=12)\n",
    "plt.show()"
   ]
  },
  {
   "cell_type": "markdown",
   "id": "ee9d240f-d51f-43f0-812d-7c4db398557a",
   "metadata": {
    "execution": {
     "iopub.execute_input": "2022-08-17T17:27:37.900982Z",
     "iopub.status.busy": "2022-08-17T17:27:37.900982Z",
     "iopub.status.idle": "2022-08-17T17:27:37.916941Z",
     "shell.execute_reply": "2022-08-17T17:27:37.915943Z",
     "shell.execute_reply.started": "2022-08-17T17:27:37.900982Z"
    },
    "tags": []
   },
   "source": [
    "<div class=\"alert alert-success\">\n",
    "    Я не могу отклонить гипотезу, что покемоны классов `Rock`, `Ground`, `Steel`, `Ice` имеют более высокий уровень защиты"
   ]
  }
 ],
 "metadata": {
  "kernelspec": {
   "display_name": "Python 3 (ipykernel)",
   "language": "python",
   "name": "python3"
  },
  "language_info": {
   "codemirror_mode": {
    "name": "ipython",
    "version": 3
   },
   "file_extension": ".py",
   "mimetype": "text/x-python",
   "name": "python",
   "nbconvert_exporter": "python",
   "pygments_lexer": "ipython3",
   "version": "3.9.12"
  },
  "toc-autonumbering": true,
  "toc-showcode": false,
  "toc-showmarkdowntxt": false
 },
 "nbformat": 4,
 "nbformat_minor": 5
}
